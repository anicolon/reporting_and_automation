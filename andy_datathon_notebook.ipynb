{
  "nbformat": 4,
  "nbformat_minor": 0,
  "metadata": {
    "colab": {
      "name": "Untitled0.ipynb",
      "private_outputs": true,
      "provenance": [],
      "collapsed_sections": []
    },
    "kernelspec": {
      "name": "python3",
      "display_name": "Python 3"
    },
    "language_info": {
      "name": "python"
    }
  },
  "cells": [
    {
      "cell_type": "code",
      "execution_count": null,
      "metadata": {
        "id": "OKm9lJMWtYiM"
      },
      "outputs": [],
      "source": [
        "from google.colab import drive\n",
        "drive.mount('/content/drive')"
      ]
    },
    {
      "cell_type": "code",
      "source": [
        "import pandas as pd\n",
        "import numpy as np\n",
        "import seaborn as sns\n",
        "import matplotlib.pyplot as plt\n",
        "\n",
        "sns.set(rc={'figure.figsize': (8, 3)}, font_scale=1)\n",
        "\n",
        "test = pd.read_csv('/content/drive/MyDrive/test.csv', index_col='Order')\n",
        "train = pd.read_csv('/content/drive/MyDrive/train.csv', index_col='Order')"
      ],
      "metadata": {
        "id": "Nrn5JaOawl96"
      },
      "execution_count": null,
      "outputs": []
    },
    {
      "cell_type": "code",
      "source": [
        "train.drop(['PID'],axis=1,inplace=True)\n",
        "test.drop(['PID'],axis=1,inplace=True)"
      ],
      "metadata": {
        "id": "WX3nDRQr61-0"
      },
      "execution_count": null,
      "outputs": []
    },
    {
      "cell_type": "code",
      "source": [
        "X = train.drop('SalePrice', axis=1)\n",
        "y = train['SalePrice']"
      ],
      "metadata": {
        "id": "7YZ3p5tT5WHG"
      },
      "execution_count": null,
      "outputs": []
    },
    {
      "cell_type": "code",
      "source": [
        "from sklearn.compose import make_column_selector\n",
        "\n",
        "numericas_selector = make_column_selector(dtype_exclude=object)\n",
        "categoricas_selector = make_column_selector(dtype_include=object)\n",
        "\n",
        "numericas = numericas_selector(X)\n",
        "categoricas = categoricas_selector(X)"
      ],
      "metadata": {
        "id": "EkiY4hDtFf7_"
      },
      "execution_count": null,
      "outputs": []
    },
    {
      "cell_type": "code",
      "source": [
        "from sklearn.preprocessing import OneHotEncoder, StandardScaler\n",
        "\n",
        "categorical_encoder = OneHotEncoder(handle_unknown=\"ignore\")\n",
        "numerical_scaler = StandardScaler()"
      ],
      "metadata": {
        "id": "u5ThrOVsDNHI"
      },
      "execution_count": null,
      "outputs": []
    },
    {
      "cell_type": "code",
      "source": [
        "from sklearn.compose import ColumnTransformer\n",
        "\n",
        "transformer = ColumnTransformer([\n",
        "    ('one-hot-encoder', categorical_encoder, categoricas),\n",
        "    ('standard_scaler', numerical_scaler, numericas)])"
      ],
      "metadata": {
        "id": "T348gPbuzdso"
      },
      "execution_count": null,
      "outputs": []
    },
    {
      "cell_type": "code",
      "source": [
        "from lightgbm import LGBMRegressor\n",
        "from sklearn.pipeline import make_pipeline\n",
        "\n",
        "model = make_pipeline(transformer, LGBMRegressor())"
      ],
      "metadata": {
        "id": "u_i8i9dj_O3e"
      },
      "execution_count": null,
      "outputs": []
    },
    {
      "cell_type": "code",
      "source": [
        "from sklearn.model_selection import train_test_split\n",
        "\n",
        "# Definimos los feautures de test y prueba\n",
        "X_train, X_test, y_train, y_test = train_test_split(\n",
        "    X, y, test_size=0.30, random_state=42\n",
        ")"
      ],
      "metadata": {
        "id": "YRkmeQPX3_K-"
      },
      "execution_count": null,
      "outputs": []
    },
    {
      "cell_type": "code",
      "source": [
        "model.fit(X_train,y_train)"
      ],
      "metadata": {
        "id": "54sHhmw3A7pw"
      },
      "execution_count": null,
      "outputs": []
    },
    {
      "cell_type": "code",
      "source": [
        "y_pred = model.predict(X_test)"
      ],
      "metadata": {
        "id": "ZUXUHrw4GsQP"
      },
      "execution_count": null,
      "outputs": []
    },
    {
      "cell_type": "code",
      "source": [
        "from sklearn.metrics import mean_squared_error\n",
        "\n",
        "import numpy as np\n",
        "\n",
        "rmse = np.sqrt(mean_squared_error(y_test,y_pred))"
      ],
      "metadata": {
        "id": "bSUvEqbi0l1t"
      },
      "execution_count": null,
      "outputs": []
    },
    {
      "cell_type": "code",
      "source": [
        "print(model.score(X_train, y_train))\n",
        "print(model.score(X_test, y_test))"
      ],
      "metadata": {
        "id": "lk08vfAL69ed"
      },
      "execution_count": null,
      "outputs": []
    },
    {
      "cell_type": "code",
      "source": [
        "prediccion = model.predict(test)\n",
        "prediccion = pd.DataFrame(prediccion,index=test.index,columns=['SalePrice'])\n",
        "prediccion.head()"
      ],
      "metadata": {
        "id": "BNEYg0YH7SD0"
      },
      "execution_count": null,
      "outputs": []
    },
    {
      "cell_type": "code",
      "source": [
        "prediccion.to_csv('/content/drive/MyDrive/andy_datathon.csv')"
      ],
      "metadata": {
        "id": "m8u0Xm3bHM_Y"
      },
      "execution_count": null,
      "outputs": []
    },
    {
      "cell_type": "code",
      "source": [
        ""
      ],
      "metadata": {
        "id": "pDz6drHsIFLJ"
      },
      "execution_count": null,
      "outputs": []
    }
  ]
}