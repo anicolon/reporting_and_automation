{
 "cells": [
  {
   "cell_type": "code",
   "execution_count": null,
   "metadata": {},
   "outputs": [],
   "source": [
    "from audit_scores import get_urls\n",
    "import requests\n",
    "import pandas as pd"
   ]
  },
  {
   "cell_type": "code",
   "execution_count": null,
   "metadata": {},
   "outputs": [],
   "source": [
    "final_urls = get_urls()[1:]"
   ]
  },
  {
   "cell_type": "code",
   "execution_count": null,
   "metadata": {},
   "outputs": [],
   "source": [
    "scores = {key: [] for key in [\"Country\",\"URL\",\"Score\"]}\n",
    "\n",
    "scores"
   ]
  },
  {
   "cell_type": "code",
   "execution_count": null,
   "metadata": {},
   "outputs": [],
   "source": [
    "key = \"INSERT KEY\"\n",
    "\n",
    "for url in final_urls:\n",
    "\n",
    "    api_url = f\"https://www.googleapis.com/pagespeedonline/v5/runPagespeed?url={url}&key={key}\"\n",
    "\n",
    "    response = requests.get(api_url)\n",
    "\n",
    "    response = response.json()\n",
    "\n",
    "    try:\n",
    "        overall_score = (\n",
    "            response[\"lighthouseResult\"][\"categories\"][\"performance\"][\"score\"] * 100\n",
    "        )\n",
    "\n",
    "    except (KeyError, TypeError):\n",
    "        # print(\"\\nError \\n\" + url)\n",
    "        continue\n",
    "\n",
    "    scores['Score'].append(overall_score)\n",
    "    scores['URL'].append(url)"
   ]
  },
  {
   "cell_type": "code",
   "execution_count": null,
   "metadata": {},
   "outputs": [],
   "source": [
    "pd.DataFrame(scores)"
   ]
  }
 ],
 "metadata": {
  "interpreter": {
   "hash": "94885a31a822a1bb9325b8529c7409f907ccf0af0c8c01acbcc58a67083b4dab"
  },
  "kernelspec": {
   "display_name": "Python 3.8.0 ('virtual_env')",
   "language": "python",
   "name": "python3"
  },
  "language_info": {
   "codemirror_mode": {
    "name": "ipython",
    "version": 3
   },
   "file_extension": ".py",
   "mimetype": "text/x-python",
   "name": "python",
   "nbconvert_exporter": "python",
   "pygments_lexer": "ipython3",
   "version": "3.8.0"
  },
  "orig_nbformat": 4
 },
 "nbformat": 4,
 "nbformat_minor": 2
}
