{
 "cells": [
  {
   "cell_type": "markdown",
   "metadata": {},
   "source": [
    "### Simple way to get an exchange rate and log it into a sheet."
   ]
  },
  {
   "cell_type": "code",
   "execution_count": 5,
   "metadata": {},
   "outputs": [],
   "source": [
    "#Dependencies\n",
    "import requests\n",
    "from bs4 import BeautifulSoup"
   ]
  },
  {
   "cell_type": "code",
   "execution_count": 6,
   "metadata": {},
   "outputs": [],
   "source": [
    "#Request website\n",
    "URL = \"https://www.cronista.com/MercadosOnline/moneda.html?id=ARSCONT\"\n",
    "page = requests.get(URL)\n",
    "\n",
    "soup = BeautifulSoup(page.content, \"html.parser\")\n",
    "results = soup.find(id=\"page\")"
   ]
  },
  {
   "cell_type": "code",
   "execution_count": 7,
   "metadata": {},
   "outputs": [
    {
     "data": {
      "text/plain": [
       "'$308,90'"
      ]
     },
     "execution_count": 7,
     "metadata": {},
     "output_type": "execute_result"
    }
   ],
   "source": [
    "#Find and catch currency value\n",
    "sell_value_element = results.find(\"div\", class_='sell-value')\n",
    "\n",
    "sell_value = sell_value_element.text.strip()\n",
    "\n",
    "sell_value"
   ]
  },
  {
   "cell_type": "code",
   "execution_count": 8,
   "metadata": {},
   "outputs": [
    {
     "data": {
      "text/plain": [
       "{'spreadsheetId': '1C-MpolZyCBESiQ5d6ceQSIzIntF3zByRIHsvRGryl5U',\n",
       " 'updatedRange': 'Tasa!D1:D2',\n",
       " 'updatedRows': 2,\n",
       " 'updatedColumns': 1,\n",
       " 'updatedCells': 2}"
      ]
     },
     "execution_count": 8,
     "metadata": {},
     "output_type": "execute_result"
    }
   ],
   "source": [
    "#Acces sheets API and update values\n",
    "from google.oauth2 import service_account\n",
    "from googleapiclient.discovery import build\n",
    "\n",
    "#Path to service account authorization file created in Google Cloud\n",
    "service_account_file = 'service_account.json'\n",
    "\n",
    "credentials = service_account.Credentials.from_service_account_file(filename=service_account_file)\n",
    "\n",
    "#Build Google Sheets service\n",
    "service = build('sheets', 'v4', credentials=credentials)\n",
    "\n",
    "#Data and ranges to update\n",
    "spreadsheet_id = 'ENTER_SHEET_ID'\n",
    "range_ = \"Tasa!D1:D999\"\n",
    "value_input_option = 'USER_ENTERED'\n",
    "\n",
    "value_range_body = {\"values\": [[\"Contaliqui\"], [sell_value]]}\n",
    "\n",
    "#Build request and set values on sheet\n",
    "request = service.spreadsheets().values().update(\n",
    "    spreadsheetId=spreadsheet_id, \n",
    "    range=range_, \n",
    "    valueInputOption=value_input_option, \n",
    "    body=value_range_body)\n",
    "\n",
    "request.execute()"
   ]
  }
 ],
 "metadata": {
  "kernelspec": {
   "display_name": "Python 3.10.5 ('data_science': venv)",
   "language": "python",
   "name": "python3"
  },
  "language_info": {
   "codemirror_mode": {
    "name": "ipython",
    "version": 3
   },
   "file_extension": ".py",
   "mimetype": "text/x-python",
   "name": "python",
   "nbconvert_exporter": "python",
   "pygments_lexer": "ipython3",
   "version": "3.10.5"
  },
  "orig_nbformat": 4,
  "vscode": {
   "interpreter": {
    "hash": "8b603b5b94103b55570a9e75bc1e2a235af93b2b437d2983a18efb1f2af9fe7b"
   }
  }
 },
 "nbformat": 4,
 "nbformat_minor": 2
}
