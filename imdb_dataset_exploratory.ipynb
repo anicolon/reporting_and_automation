{
 "cells": [
  {
   "cell_type": "markdown",
   "metadata": {
    "pycharm": {
     "name": "#%% md\n"
    }
   },
   "source": [
    "# IMDB Datasets"
   ]
  },
  {
   "cell_type": "code",
   "execution_count": 1,
   "metadata": {
    "pycharm": {
     "name": "#%%\n"
    }
   },
   "outputs": [],
   "source": [
    "import pandas as pd\n",
    "import matplotlib.pyplot as plt\n",
    "import seaborn as sns\n",
    "\n",
    "sns.set()\n",
    "plt.rcParams['figure.figsize'] = (20, 5)"
   ]
  },
  {
   "cell_type": "markdown",
   "metadata": {
    "pycharm": {
     "name": "#%% md\n"
    }
   },
   "source": [
    "## Database engine"
   ]
  },
  {
   "cell_type": "code",
   "execution_count": 2,
   "metadata": {
    "jupyter": {
     "source_hidden": true
    },
    "tags": [],
    "pycharm": {
     "name": "#%%\n"
    }
   },
   "outputs": [],
   "source": [
    "# import psycopg2\n",
    "# from sqlalchemy import create_engine\n",
    "\n",
    "# coder_db = create_engine('postgresql://localhost/imdb_data')"
   ]
  },
  {
   "cell_type": "markdown",
   "metadata": {
    "pycharm": {
     "name": "#%% md\n"
    }
   },
   "source": [
    "## Create database"
   ]
  },
  {
   "cell_type": "code",
   "execution_count": 3,
   "metadata": {
    "jupyter": {
     "source_hidden": true
    },
    "tags": [],
    "pycharm": {
     "name": "#%%\n"
    }
   },
   "outputs": [],
   "source": [
    "# conn = psycopg2.connect(\n",
    "#     database='postgres',\n",
    "#     user='anicolon',\n",
    "#     password='mignola12',\n",
    "#     host='127.0.0.1',\n",
    "#     port='5432',\n",
    "# )\n",
    "\n",
    "# conn.autocommit = True\n",
    "# a\n",
    "# # Creating a cursor object using the cursor() method\n",
    "# cursor = conn.cursor()\n",
    "\n",
    "# # Preparing query to create a database\n",
    "# sql = '''CREATE database imdb_data'''\n",
    "\n",
    "# # Creating a database\n",
    "# cursor.execute(sql)\n",
    "# print('Database created successfully........')\n",
    "\n",
    "# # Closing the connection\n",
    "# conn.close()"
   ]
  },
  {
   "cell_type": "markdown",
   "metadata": {
    "pycharm": {
     "name": "#%% md\n"
    }
   },
   "source": [
    "## DataFrames to PostgreSQL"
   ]
  },
  {
   "cell_type": "code",
   "execution_count": 4,
   "metadata": {
    "pycharm": {
     "name": "#%%\n"
    }
   },
   "outputs": [],
   "source": [
    "name_basics = pd.read_csv(\n",
    "    r'\\name.basics.tsv.gz',\n",
    "    sep='\\t',\n",
    "    low_memory=False,\n",
    ")"
   ]
  },
  {
   "cell_type": "code",
   "execution_count": 5,
   "metadata": {
    "pycharm": {
     "name": "#%%\n"
    }
   },
   "outputs": [],
   "source": [
    "# name_basics.to_sql('name_basics', con=coder_db, if_exists='fail')"
   ]
  },
  {
   "cell_type": "code",
   "execution_count": 6,
   "metadata": {
    "pycharm": {
     "name": "#%%\n"
    }
   },
   "outputs": [],
   "source": [
    "title_basics = pd.read_csv(\n",
    "    '\\title.basics.tsv.gz',\n",
    "    sep='\\t',\n",
    "    low_memory=False,\n",
    ")"
   ]
  },
  {
   "cell_type": "code",
   "execution_count": 7,
   "metadata": {
    "pycharm": {
     "name": "#%%\n"
    }
   },
   "outputs": [],
   "source": [
    "# title_basics.to_sql('title_basics', con=coder_db, if_exists='fail')"
   ]
  },
  {
   "cell_type": "code",
   "execution_count": 8,
   "metadata": {
    "pycharm": {
     "name": "#%%\n"
    }
   },
   "outputs": [],
   "source": [
    "episode_basics = pd.read_csv(\n",
    "    r'\\title.episode.tsv.gz',\n",
    "    sep='\\t',\n",
    "    low_memory=False,\n",
    ")"
   ]
  },
  {
   "cell_type": "code",
   "execution_count": 9,
   "metadata": {
    "pycharm": {
     "name": "#%%\n"
    }
   },
   "outputs": [],
   "source": [
    "# episode_basics.to_sql('episode_basics', con=coder_db, if_exists='fail')"
   ]
  },
  {
   "cell_type": "code",
   "execution_count": 10,
   "metadata": {
    "pycharm": {
     "name": "#%%\n"
    }
   },
   "outputs": [],
   "source": [
    "title_principals = pd.read_csv(\n",
    "    r'\\title.principals.tsv.gz',\n",
    "    sep='\\t',\n",
    "    low_memory=False,\n",
    ")"
   ]
  },
  {
   "cell_type": "code",
   "execution_count": 11,
   "metadata": {
    "pycharm": {
     "name": "#%%\n"
    }
   },
   "outputs": [],
   "source": [
    "# title_principals.to_sql('title_principals', con=coder_db, if_exists='fail')"
   ]
  },
  {
   "cell_type": "code",
   "execution_count": 12,
   "metadata": {
    "pycharm": {
     "name": "#%%\n"
    }
   },
   "outputs": [],
   "source": [
    "title_ratings = pd.read_csv(\n",
    "    r'\\title.ratings.tsv.gz',\n",
    "    sep='\\t',\n",
    "    low_memory=False,\n",
    ")"
   ]
  },
  {
   "cell_type": "code",
   "execution_count": 13,
   "metadata": {
    "pycharm": {
     "name": "#%%\n"
    }
   },
   "outputs": [],
   "source": [
    "# title_ratings.to_sql('title_ratings', con=coder_db, if_exists='fail')"
   ]
  },
  {
   "cell_type": "markdown",
   "metadata": {
    "pycharm": {
     "name": "#%% md\n"
    }
   },
   "source": [
    "## PostgreSQL query"
   ]
  },
  {
   "cell_type": "code",
   "execution_count": 14,
   "metadata": {
    "jupyter": {
     "source_hidden": true
    },
    "tags": [],
    "pycharm": {
     "name": "#%%\n"
    }
   },
   "outputs": [],
   "source": [
    "# query = ''' SELECT * FROM name_basics LIMIT 10;'''\n",
    "# pd.read_sql_query(query, coder_db)"
   ]
  },
  {
   "cell_type": "markdown",
   "metadata": {
    "pycharm": {
     "name": "#%% md\n"
    }
   },
   "source": [
    "## Name basics"
   ]
  },
  {
   "cell_type": "code",
   "execution_count": 15,
   "metadata": {
    "pycharm": {
     "name": "#%%\n"
    }
   },
   "outputs": [
    {
     "data": {
      "text/plain": "      nconst      primaryName birthYear deathYear  \\\n0  nm0000001     Fred Astaire      1899      1987   \n1  nm0000002    Lauren Bacall      1924      2014   \n2  nm0000003  Brigitte Bardot      1934        \\N   \n3  nm0000004     John Belushi      1949      1982   \n4  nm0000005   Ingmar Bergman      1918      2007   \n\n                     primaryProfession  \\\n0       soundtrack,actor,miscellaneous   \n1                   actress,soundtrack   \n2  actress,soundtrack,music_department   \n3              actor,soundtrack,writer   \n4                writer,director,actor   \n\n                            knownForTitles  \n0  tt0072308,tt0053137,tt0050419,tt0031983  \n1  tt0038355,tt0117057,tt0071877,tt0037382  \n2  tt0054452,tt0056404,tt0049189,tt0057345  \n3  tt0080455,tt0077975,tt0078723,tt0072562  \n4  tt0060827,tt0050986,tt0083922,tt0069467  ",
      "text/html": "<div>\n<style scoped>\n    .dataframe tbody tr th:only-of-type {\n        vertical-align: middle;\n    }\n\n    .dataframe tbody tr th {\n        vertical-align: top;\n    }\n\n    .dataframe thead th {\n        text-align: right;\n    }\n</style>\n<table border=\"1\" class=\"dataframe\">\n  <thead>\n    <tr style=\"text-align: right;\">\n      <th></th>\n      <th>nconst</th>\n      <th>primaryName</th>\n      <th>birthYear</th>\n      <th>deathYear</th>\n      <th>primaryProfession</th>\n      <th>knownForTitles</th>\n    </tr>\n  </thead>\n  <tbody>\n    <tr>\n      <th>0</th>\n      <td>nm0000001</td>\n      <td>Fred Astaire</td>\n      <td>1899</td>\n      <td>1987</td>\n      <td>soundtrack,actor,miscellaneous</td>\n      <td>tt0072308,tt0053137,tt0050419,tt0031983</td>\n    </tr>\n    <tr>\n      <th>1</th>\n      <td>nm0000002</td>\n      <td>Lauren Bacall</td>\n      <td>1924</td>\n      <td>2014</td>\n      <td>actress,soundtrack</td>\n      <td>tt0038355,tt0117057,tt0071877,tt0037382</td>\n    </tr>\n    <tr>\n      <th>2</th>\n      <td>nm0000003</td>\n      <td>Brigitte Bardot</td>\n      <td>1934</td>\n      <td>\\N</td>\n      <td>actress,soundtrack,music_department</td>\n      <td>tt0054452,tt0056404,tt0049189,tt0057345</td>\n    </tr>\n    <tr>\n      <th>3</th>\n      <td>nm0000004</td>\n      <td>John Belushi</td>\n      <td>1949</td>\n      <td>1982</td>\n      <td>actor,soundtrack,writer</td>\n      <td>tt0080455,tt0077975,tt0078723,tt0072562</td>\n    </tr>\n    <tr>\n      <th>4</th>\n      <td>nm0000005</td>\n      <td>Ingmar Bergman</td>\n      <td>1918</td>\n      <td>2007</td>\n      <td>writer,director,actor</td>\n      <td>tt0060827,tt0050986,tt0083922,tt0069467</td>\n    </tr>\n  </tbody>\n</table>\n</div>"
     },
     "execution_count": 15,
     "metadata": {},
     "output_type": "execute_result"
    }
   ],
   "source": [
    "# name_basics = pd.read_sql('name_basics', coder_db)\n",
    "\n",
    "name_basics.head(5)"
   ]
  },
  {
   "cell_type": "markdown",
   "metadata": {
    "pycharm": {
     "name": "#%% md\n"
    }
   },
   "source": [
    "## Birth year"
   ]
  },
  {
   "cell_type": "code",
   "execution_count": 16,
   "metadata": {
    "pycharm": {
     "name": "#%%\n"
    }
   },
   "outputs": [
    {
     "data": {
      "text/plain": "<AxesSubplot:ylabel='birthYear'>"
     },
     "execution_count": 16,
     "metadata": {},
     "output_type": "execute_result"
    },
    {
     "data": {
      "text/plain": "<Figure size 1440x360 with 1 Axes>",
      "image/png": "[encoded data removed]"
     },
     "metadata": {},
     "output_type": "display_data"
    }
   ],
   "source": [
    "name_basics = name_basics[~name_basics['birthYear'].str.contains('N')]\n",
    "name_basics['birthYear'] = pd.to_datetime(name_basics['birthYear'], errors = 'coerce')\n",
    "\n",
    "name_basics['birthYear'] = name_basics['birthYear'].astype('datetime64')\n",
    "name_basics = name_basics[name_basics['birthYear'] >= '1900']\n",
    "\n",
    "sns.lineplot(data=name_basics['birthYear'].value_counts(),marker='o')"
   ]
  },
  {
   "cell_type": "markdown",
   "metadata": {
    "pycharm": {
     "name": "#%% md\n"
    }
   },
   "source": [
    "## Born this year"
   ]
  },
  {
   "cell_type": "code",
   "execution_count": 40,
   "metadata": {
    "pycharm": {
     "name": "#%%\n"
    }
   },
   "outputs": [
    {
     "data": {
      "text/plain": "4244886    Veronika Podgurskaya\n4277147         Jacques Webster\nName: primaryName, dtype: object"
     },
     "execution_count": 40,
     "metadata": {},
     "output_type": "execute_result"
    }
   ],
   "source": [
    "kids2021 = name_basics[name_basics['birthYear'] > '2021']\n",
    "kids2021['primaryName']"
   ]
  },
  {
   "cell_type": "markdown",
   "metadata": {
    "pycharm": {
     "name": "#%% md\n"
    }
   },
   "source": [
    "## Has same name"
   ]
  },
  {
   "cell_type": "code",
   "execution_count": 18,
   "metadata": {
    "pycharm": {
     "name": "#%%\n"
    }
   },
   "outputs": [
    {
     "data": {
      "text/plain": "John Taylor            12\nPaul Williams          11\nDavid Lee              11\nMike Jones             11\nPaul Smith             10\nJohn Williams          10\nSteve Smith            10\nAleksandr Kuznetsov     9\nMichael White           9\nDavid Williams          9\nName: primaryName, dtype: int64"
     },
     "execution_count": 18,
     "metadata": {},
     "output_type": "execute_result"
    }
   ],
   "source": [
    "name_basics['primaryName'].value_counts().head(10)"
   ]
  },
  {
   "cell_type": "markdown",
   "metadata": {
    "pycharm": {
     "name": "#%% md\n"
    }
   },
   "source": [
    "## Same first name"
   ]
  },
  {
   "cell_type": "code",
   "execution_count": 19,
   "metadata": {
    "pycharm": {
     "name": "#%%\n"
    }
   },
   "outputs": [
    {
     "data": {
      "text/plain": "John       5531\nMichael    4828\nDavid      4614\nRobert     3596\nPeter      3308\nPaul       2631\nJames      2468\nRichard    2350\nMark       1948\nChris      1874\nName: firstname, dtype: int64"
     },
     "execution_count": 19,
     "metadata": {},
     "output_type": "execute_result"
    }
   ],
   "source": [
    "name_basics['firstname'] = name_basics['primaryName'].str.split(' ').apply(lambda x: x[0])\n",
    "name_basics['firstname'].value_counts().head(10)"
   ]
  },
  {
   "cell_type": "markdown",
   "metadata": {
    "pycharm": {
     "name": "#%% md\n"
    }
   },
   "source": [
    "## Same last name"
   ]
  },
  {
   "cell_type": "code",
   "execution_count": 20,
   "metadata": {
    "pycharm": {
     "name": "#%%\n"
    }
   },
   "outputs": [
    {
     "data": {
      "text/plain": "            5970\nSmith       1027\nWilliams     907\nLee          874\nJones        836\nJohnson      831\nBrown        768\nTaylor       637\nMiller       611\nDavis        574\nName: lastname, dtype: int64"
     },
     "execution_count": 20,
     "metadata": {},
     "output_type": "execute_result"
    }
   ],
   "source": [
    "def splitit(x):\n",
    "    listed = x.split(' ')\n",
    "    try:\n",
    "        splited = ''.join(listed[1:])\n",
    "        return splited\n",
    "\n",
    "    except IndexError:\n",
    "        listed = float('Nan')\n",
    "\n",
    "\n",
    "name_basics['lastname'] = name_basics['primaryName'].apply(lambda x: splitit(x))\n",
    "\n",
    "name_basics['lastname'].value_counts().head(10)"
   ]
  },
  {
   "cell_type": "code",
   "execution_count": 21,
   "metadata": {
    "pycharm": {
     "name": "#%%\n"
    }
   },
   "outputs": [
    {
     "data": {
      "text/plain": "      tconst titleType            primaryTitle           originalTitle  \\\n0  tt0000001     short              Carmencita              Carmencita   \n1  tt0000002     short  Le clown et ses chiens  Le clown et ses chiens   \n2  tt0000003     short          Pauvre Pierrot          Pauvre Pierrot   \n3  tt0000004     short             Un bon bock             Un bon bock   \n4  tt0000005     short        Blacksmith Scene        Blacksmith Scene   \n\n  isAdult startYear endYear runtimeMinutes                    genres  \n0       0      1894      \\N              1         Documentary,Short  \n1       0      1892      \\N              5           Animation,Short  \n2       0      1892      \\N              4  Animation,Comedy,Romance  \n3       0      1892      \\N             12           Animation,Short  \n4       0      1893      \\N              1              Comedy,Short  ",
      "text/html": "<div>\n<style scoped>\n    .dataframe tbody tr th:only-of-type {\n        vertical-align: middle;\n    }\n\n    .dataframe tbody tr th {\n        vertical-align: top;\n    }\n\n    .dataframe thead th {\n        text-align: right;\n    }\n</style>\n<table border=\"1\" class=\"dataframe\">\n  <thead>\n    <tr style=\"text-align: right;\">\n      <th></th>\n      <th>tconst</th>\n      <th>titleType</th>\n      <th>primaryTitle</th>\n      <th>originalTitle</th>\n      <th>isAdult</th>\n      <th>startYear</th>\n      <th>endYear</th>\n      <th>runtimeMinutes</th>\n      <th>genres</th>\n    </tr>\n  </thead>\n  <tbody>\n    <tr>\n      <th>0</th>\n      <td>tt0000001</td>\n      <td>short</td>\n      <td>Carmencita</td>\n      <td>Carmencita</td>\n      <td>0</td>\n      <td>1894</td>\n      <td>\\N</td>\n      <td>1</td>\n      <td>Documentary,Short</td>\n    </tr>\n    <tr>\n      <th>1</th>\n      <td>tt0000002</td>\n      <td>short</td>\n      <td>Le clown et ses chiens</td>\n      <td>Le clown et ses chiens</td>\n      <td>0</td>\n      <td>1892</td>\n      <td>\\N</td>\n      <td>5</td>\n      <td>Animation,Short</td>\n    </tr>\n    <tr>\n      <th>2</th>\n      <td>tt0000003</td>\n      <td>short</td>\n      <td>Pauvre Pierrot</td>\n      <td>Pauvre Pierrot</td>\n      <td>0</td>\n      <td>1892</td>\n      <td>\\N</td>\n      <td>4</td>\n      <td>Animation,Comedy,Romance</td>\n    </tr>\n    <tr>\n      <th>3</th>\n      <td>tt0000004</td>\n      <td>short</td>\n      <td>Un bon bock</td>\n      <td>Un bon bock</td>\n      <td>0</td>\n      <td>1892</td>\n      <td>\\N</td>\n      <td>12</td>\n      <td>Animation,Short</td>\n    </tr>\n    <tr>\n      <th>4</th>\n      <td>tt0000005</td>\n      <td>short</td>\n      <td>Blacksmith Scene</td>\n      <td>Blacksmith Scene</td>\n      <td>0</td>\n      <td>1893</td>\n      <td>\\N</td>\n      <td>1</td>\n      <td>Comedy,Short</td>\n    </tr>\n  </tbody>\n</table>\n</div>"
     },
     "execution_count": 21,
     "metadata": {},
     "output_type": "execute_result"
    }
   ],
   "source": [
    "# TITLES TABLE\n",
    "\n",
    "# title_basics = pd.read_sql('title_basics', coder_db)\n",
    "\n",
    "title_basics.head(5)"
   ]
  },
  {
   "cell_type": "markdown",
   "metadata": {
    "pycharm": {
     "name": "#%% md\n"
    }
   },
   "source": [
    "## List of genres"
   ]
  },
  {
   "cell_type": "code",
   "execution_count": 22,
   "metadata": {
    "pycharm": {
     "name": "#%%\n"
    }
   },
   "outputs": [],
   "source": [
    "# GENRES ON DATABASE\n",
    "\n",
    "def xstr(s):\n",
    "    return 'DDELETE' if s == '\\\\N' else str(s)\n",
    "\n",
    "title_basics['genres'] = title_basics['genres'].apply(lambda x: xstr(x))\n",
    "title_basics = title_basics[~title_basics['genres'].str.contains('DDELETE')]\n",
    "\n",
    "from itertools import chain\n",
    "\n",
    "genres = pd.DataFrame(title_basics['genres'].str.split(',', expand=True))\n",
    "genres_list = list(chain(genres[0].unique(), genres[1].unique(), genres[2].unique()))"
   ]
  },
  {
   "cell_type": "code",
   "execution_count": 23,
   "metadata": {
    "pycharm": {
     "name": "#%%\n"
    }
   },
   "outputs": [
    {
     "data": {
      "text/plain": "30"
     },
     "execution_count": 23,
     "metadata": {},
     "output_type": "execute_result"
    }
   ],
   "source": [
    "len(list(set(genres_list)))"
   ]
  },
  {
   "cell_type": "markdown",
   "metadata": {
    "pycharm": {
     "name": "#%% md\n"
    }
   },
   "source": [
    "## Count of genres"
   ]
  },
  {
   "cell_type": "code",
   "execution_count": 24,
   "metadata": {
    "pycharm": {
     "name": "#%%\n"
    }
   },
   "outputs": [
    {
     "name": "stderr",
     "output_type": "stream",
     "text": [
      "C:\\Users\\anico\\AppData\\Local\\Temp\\ipykernel_21192\\3272411431.py:1: FutureWarning: The series.append method is deprecated and will be removed from pandas in a future version. Use pandas.concat instead.\n",
      "  top_genres = genres[0].append(genres[1].append(genres[2])).value_counts()\n",
      "C:\\Users\\anico\\AppData\\Local\\Temp\\ipykernel_21192\\3272411431.py:1: FutureWarning: The series.append method is deprecated and will be removed from pandas in a future version. Use pandas.concat instead.\n",
      "  top_genres = genres[0].append(genres[1].append(genres[2])).value_counts()\n"
     ]
    }
   ],
   "source": [
    "top_genres = genres[0].append(genres[1].append(genres[2])).value_counts()"
   ]
  },
  {
   "cell_type": "code",
   "execution_count": 25,
   "metadata": {
    "pycharm": {
     "name": "#%%\n"
    }
   },
   "outputs": [
    {
     "data": {
      "text/plain": "Drama          2471249\nComedy         1815995\nTalk-Show      1050252\nShort           996885\nDocumentary     837880\nRomance         790798\nNews            782145\nFamily          652270\nReality-TV      479551\nAnimation       456797\ndtype: int64"
     },
     "execution_count": 25,
     "metadata": {},
     "output_type": "execute_result"
    }
   ],
   "source": [
    "top_genres.head(10)"
   ]
  },
  {
   "cell_type": "code",
   "execution_count": 26,
   "metadata": {
    "pycharm": {
     "name": "#%%\n"
    }
   },
   "outputs": [
    {
     "data": {
      "text/plain": "             tconst  titleType                                  primaryTitle  \\\n6004675   tt3606590  tvEpisode      20 saveta za uspeshen kasometrazhen film   \n1504657  tt10961772  tvEpisode                    Episode dated 13 July 1999   \n354641    tt0370042      movie                                Usapang lalake   \n1707010  tt11324502  tvEpisode                               Episode #1.3099   \n3045616  tt13775466  tvEpisode                 6 January 2021: Late Bulletin   \n6568626   tt4880196  tvEpisode                                Episode #1.107   \n7549986   tt7083544      short                           Death After Suicide   \n703730    tt0726875  tvEpisode                 Episode dated 3 November 1971   \n7446392   tt6854288  tvEpisode                      Episode dated 3 May 2017   \n5479390   tt2382636  tvEpisode  Daylight Zone/The Pretender/Crime of the Age   \n\n                                        originalTitle isAdult startYear  \\\n6004675      20 saveta za uspeshen kasometrazhen film       0      2013   \n1504657                    Episode dated 13 July 1999       0      1999   \n354641                                 Usapang lalake       0      1970   \n1707010                               Episode #1.3099       0        \\N   \n3045616                 6 January 2021: Late Bulletin       0      2021   \n6568626                                Episode #1.107       0        \\N   \n7549986                           Death After Suicide       0      2017   \n703730                  Episode dated 3 November 1971       0      1971   \n7446392                      Episode dated 3 May 2017       0      2017   \n5479390  Daylight Zone/The Pretender/Crime of the Age       0      2012   \n\n        endYear runtimeMinutes                      genres  \n6004675      \\N             \\N                       Short  \n1504657      \\N             \\N  Music,Reality-TV,Talk-Show  \n354641       \\N             \\N                      Action  \n1707010      \\N             \\N               Drama,Romance  \n3045616      \\N             11                        News  \n6568626      \\N             \\N                       Crime  \n7549986      \\N             \\N           Documentary,Short  \n703730       \\N             \\N            Comedy,Talk-Show  \n7446392      \\N             \\N                   Talk-Show  \n5479390      \\N             \\N                 News,Sci-Fi  ",
      "text/html": "<div>\n<style scoped>\n    .dataframe tbody tr th:only-of-type {\n        vertical-align: middle;\n    }\n\n    .dataframe tbody tr th {\n        vertical-align: top;\n    }\n\n    .dataframe thead th {\n        text-align: right;\n    }\n</style>\n<table border=\"1\" class=\"dataframe\">\n  <thead>\n    <tr style=\"text-align: right;\">\n      <th></th>\n      <th>tconst</th>\n      <th>titleType</th>\n      <th>primaryTitle</th>\n      <th>originalTitle</th>\n      <th>isAdult</th>\n      <th>startYear</th>\n      <th>endYear</th>\n      <th>runtimeMinutes</th>\n      <th>genres</th>\n    </tr>\n  </thead>\n  <tbody>\n    <tr>\n      <th>6004675</th>\n      <td>tt3606590</td>\n      <td>tvEpisode</td>\n      <td>20 saveta za uspeshen kasometrazhen film</td>\n      <td>20 saveta za uspeshen kasometrazhen film</td>\n      <td>0</td>\n      <td>2013</td>\n      <td>\\N</td>\n      <td>\\N</td>\n      <td>Short</td>\n    </tr>\n    <tr>\n      <th>1504657</th>\n      <td>tt10961772</td>\n      <td>tvEpisode</td>\n      <td>Episode dated 13 July 1999</td>\n      <td>Episode dated 13 July 1999</td>\n      <td>0</td>\n      <td>1999</td>\n      <td>\\N</td>\n      <td>\\N</td>\n      <td>Music,Reality-TV,Talk-Show</td>\n    </tr>\n    <tr>\n      <th>354641</th>\n      <td>tt0370042</td>\n      <td>movie</td>\n      <td>Usapang lalake</td>\n      <td>Usapang lalake</td>\n      <td>0</td>\n      <td>1970</td>\n      <td>\\N</td>\n      <td>\\N</td>\n      <td>Action</td>\n    </tr>\n    <tr>\n      <th>1707010</th>\n      <td>tt11324502</td>\n      <td>tvEpisode</td>\n      <td>Episode #1.3099</td>\n      <td>Episode #1.3099</td>\n      <td>0</td>\n      <td>\\N</td>\n      <td>\\N</td>\n      <td>\\N</td>\n      <td>Drama,Romance</td>\n    </tr>\n    <tr>\n      <th>3045616</th>\n      <td>tt13775466</td>\n      <td>tvEpisode</td>\n      <td>6 January 2021: Late Bulletin</td>\n      <td>6 January 2021: Late Bulletin</td>\n      <td>0</td>\n      <td>2021</td>\n      <td>\\N</td>\n      <td>11</td>\n      <td>News</td>\n    </tr>\n    <tr>\n      <th>6568626</th>\n      <td>tt4880196</td>\n      <td>tvEpisode</td>\n      <td>Episode #1.107</td>\n      <td>Episode #1.107</td>\n      <td>0</td>\n      <td>\\N</td>\n      <td>\\N</td>\n      <td>\\N</td>\n      <td>Crime</td>\n    </tr>\n    <tr>\n      <th>7549986</th>\n      <td>tt7083544</td>\n      <td>short</td>\n      <td>Death After Suicide</td>\n      <td>Death After Suicide</td>\n      <td>0</td>\n      <td>2017</td>\n      <td>\\N</td>\n      <td>\\N</td>\n      <td>Documentary,Short</td>\n    </tr>\n    <tr>\n      <th>703730</th>\n      <td>tt0726875</td>\n      <td>tvEpisode</td>\n      <td>Episode dated 3 November 1971</td>\n      <td>Episode dated 3 November 1971</td>\n      <td>0</td>\n      <td>1971</td>\n      <td>\\N</td>\n      <td>\\N</td>\n      <td>Comedy,Talk-Show</td>\n    </tr>\n    <tr>\n      <th>7446392</th>\n      <td>tt6854288</td>\n      <td>tvEpisode</td>\n      <td>Episode dated 3 May 2017</td>\n      <td>Episode dated 3 May 2017</td>\n      <td>0</td>\n      <td>2017</td>\n      <td>\\N</td>\n      <td>\\N</td>\n      <td>Talk-Show</td>\n    </tr>\n    <tr>\n      <th>5479390</th>\n      <td>tt2382636</td>\n      <td>tvEpisode</td>\n      <td>Daylight Zone/The Pretender/Crime of the Age</td>\n      <td>Daylight Zone/The Pretender/Crime of the Age</td>\n      <td>0</td>\n      <td>2012</td>\n      <td>\\N</td>\n      <td>\\N</td>\n      <td>News,Sci-Fi</td>\n    </tr>\n  </tbody>\n</table>\n</div>"
     },
     "execution_count": 26,
     "metadata": {},
     "output_type": "execute_result"
    }
   ],
   "source": [
    "title_basics.sample(10)"
   ]
  },
  {
   "cell_type": "code",
   "execution_count": 42,
   "metadata": {
    "pycharm": {
     "name": "#%%\n"
    }
   },
   "outputs": [
    {
     "data": {
      "text/plain": "['short',\n 'movie',\n 'tvEpisode',\n 'tvSeries',\n 'tvShort',\n 'tvMovie',\n 'tvMiniSeries',\n 'tvSpecial',\n 'video',\n 'videoGame']"
     },
     "execution_count": 42,
     "metadata": {},
     "output_type": "execute_result"
    }
   ],
   "source": [
    "[i for i in title_basics['titleType'].unique()]"
   ]
  },
  {
   "cell_type": "code",
   "execution_count": 28,
   "metadata": {
    "pycharm": {
     "name": "#%%\n"
    }
   },
   "outputs": [],
   "source": [
    "title_movies = title_basics[title_basics['titleType'].str.contains('movie')].copy()"
   ]
  },
  {
   "cell_type": "code",
   "execution_count": 29,
   "metadata": {
    "pycharm": {
     "name": "#%%\n"
    }
   },
   "outputs": [
    {
     "data": {
      "text/plain": "Home      47\nMother    45\nBroken    44\nAlone     43\nHamlet    42\nName: primaryTitle, dtype: int64"
     },
     "execution_count": 29,
     "metadata": {},
     "output_type": "execute_result"
    }
   ],
   "source": [
    "title_movies['primaryTitle'].value_counts().head(5)"
   ]
  },
  {
   "cell_type": "code",
   "execution_count": 30,
   "metadata": {
    "pycharm": {
     "name": "#%%\n"
    }
   },
   "outputs": [],
   "source": [
    "title_tv = title_basics[title_basics['titleType'].str.contains('tvSeries|tvMiniSeries')].copy()"
   ]
  },
  {
   "cell_type": "code",
   "execution_count": 31,
   "metadata": {
    "pycharm": {
     "name": "#%%\n"
    }
   },
   "outputs": [
    {
     "data": {
      "text/plain": "Joulukalenteri    35\nShock Theater     31\nShock Theatre     28\nSpotlight         25\nRoommates         25\nName: primaryTitle, dtype: int64"
     },
     "execution_count": 31,
     "metadata": {},
     "output_type": "execute_result"
    }
   ],
   "source": [
    "title_tv['primaryTitle'].value_counts().head(5)"
   ]
  },
  {
   "cell_type": "code",
   "execution_count": 32,
   "metadata": {
    "pycharm": {
     "name": "#%%\n"
    }
   },
   "outputs": [],
   "source": [
    "title_games = title_basics[title_basics['titleType'].str.contains('videoGame')].copy()"
   ]
  },
  {
   "cell_type": "code",
   "execution_count": 33,
   "metadata": {
    "pycharm": {
     "name": "#%%\n"
    }
   },
   "outputs": [
    {
     "data": {
      "text/plain": "Donkey Kong    6\nJeopardy!      6\nStar Trek      6\nBaseball       6\nFootball       5\nName: primaryTitle, dtype: int64"
     },
     "execution_count": 33,
     "metadata": {},
     "output_type": "execute_result"
    }
   ],
   "source": [
    "title_games['primaryTitle'].value_counts().head(5)"
   ]
  },
  {
   "cell_type": "code",
   "execution_count": 34,
   "metadata": {
    "pycharm": {
     "name": "#%%\n"
    }
   },
   "outputs": [],
   "source": [
    "title_movies = title_movies[title_movies['startYear'].str.len() >= 4]"
   ]
  },
  {
   "cell_type": "code",
   "execution_count": 35,
   "metadata": {
    "pycharm": {
     "name": "#%%\n"
    }
   },
   "outputs": [
    {
     "data": {
      "text/plain": "Timestamp('2028-01-01 00:00:00')"
     },
     "execution_count": 35,
     "metadata": {},
     "output_type": "execute_result"
    }
   ],
   "source": [
    "title_movies['startYear'].astype('datetime64[Y]').max()"
   ]
  },
  {
   "cell_type": "code",
   "execution_count": 36,
   "metadata": {
    "pycharm": {
     "name": "#%%\n"
    }
   },
   "outputs": [
    {
     "data": {
      "text/plain": "array(['2022-01-01T00:00:00.000000000', '2024-01-01T00:00:00.000000000',\n       '2023-01-01T00:00:00.000000000', '2025-01-01T00:00:00.000000000',\n       '2027-01-01T00:00:00.000000000', '2026-01-01T00:00:00.000000000',\n       '2028-01-01T00:00:00.000000000'], dtype='datetime64[ns]')"
     },
     "execution_count": 36,
     "metadata": {},
     "output_type": "execute_result"
    }
   ],
   "source": [
    "title_movies['startYear'].astype('datetime64[Y]')[title_movies['startYear'].astype('datetime64[Y]') > \"2021\"].unique()"
   ]
  },
  {
   "cell_type": "code",
   "execution_count": 37,
   "metadata": {
    "pycharm": {
     "name": "#%%\n"
    }
   },
   "outputs": [
    {
     "data": {
      "text/plain": "2018-01-01    17527\n2017-01-01    17418\n2019-01-01    17016\n2016-01-01    16958\n2021-01-01    16414\n              ...  \n2028-01-01        4\n1903-01-01        3\n1904-01-01        2\n1897-01-01        1\n1896-01-01        1\nName: startYear, Length: 133, dtype: int64"
     },
     "execution_count": 37,
     "metadata": {},
     "output_type": "execute_result"
    }
   ],
   "source": [
    "movies_by_year = title_movies['startYear'].astype('datetime64[Y]').value_counts()\n",
    "\n",
    "movies_by_year"
   ]
  },
  {
   "cell_type": "code",
   "execution_count": 38,
   "metadata": {
    "pycharm": {
     "name": "#%%\n"
    }
   },
   "outputs": [
    {
     "data": {
      "text/plain": "460986"
     },
     "execution_count": 38,
     "metadata": {},
     "output_type": "execute_result"
    }
   ],
   "source": [
    "len(title_movies['primaryTitle'])"
   ]
  },
  {
   "cell_type": "code",
   "execution_count": 39,
   "metadata": {
    "pycharm": {
     "name": "#%%\n"
    }
   },
   "outputs": [
    {
     "data": {
      "text/plain": "<AxesSubplot:ylabel='startYear'>"
     },
     "execution_count": 39,
     "metadata": {},
     "output_type": "execute_result"
    },
    {
     "data": {
      "text/plain": "<Figure size 1440x360 with 1 Axes>",
      "image/png": "[encoded data removed]"
     },
     "metadata": {},
     "output_type": "display_data"
    }
   ],
   "source": [
    "sns.lineplot(data=movies_by_year,marker='o')"
   ]
  }
 ],
 "metadata": {
  "interpreter": {
   "hash": "aee8b7b246df8f9039afb4144a1f6fd8d2ca17a180786b69acc140d282b71a49"
  },
  "kernelspec": {
   "display_name": "Python 3",
   "language": "python",
   "name": "python3"
  },
  "language_info": {
   "codemirror_mode": {
    "name": "ipython",
    "version": 3
   },
   "file_extension": ".py",
   "mimetype": "text/x-python",
   "name": "python",
   "nbconvert_exporter": "python",
   "pygments_lexer": "ipython3",
   "version": "3.9.4"
  }
 },
 "nbformat": 4,
 "nbformat_minor": 4
}
